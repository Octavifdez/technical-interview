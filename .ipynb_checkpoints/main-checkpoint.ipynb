{
 "cells": [
  {
   "cell_type": "markdown",
   "metadata": {},
   "source": [
    "## Part 1\n",
    "\n",
    "### Challenge:\n",
    "As AirBnB's webpage announces a raise on this elements, we should check on number of reservations and increase of night price.\n",
    "\n",
    "#### Samples:\n",
    "The best option would be to perform an A/B test on flats of similar characteristics, but that correspond to the mean of the market.\n",
    "\n",
    "#### Metrics:\n",
    "- Conversion rates (number of reservations).\n",
    "- Click rates.\n",
    "- Night price.\n",
    "\n",
    "#### Hypothesis:\n",
    "- The professional photo increments the views of the rental flat.\n",
    "- Therefore, the user rents it more often.\n",
    "- And can rise its price, as there's more demand\n",
    "\n",
    "#### Period:\n",
    "It should last at least 1 week, and 1 month would be ideal to see if weekends affect the metrics."
   ]
  },
  {
   "cell_type": "markdown",
   "metadata": {},
   "source": [
    "## Part 2"
   ]
  },
  {
   "cell_type": "markdown",
   "metadata": {},
   "source": [
    "The designed experiment is very simple. For a period of 5 days, all trips in 3 cities (Bravos, Pentos and Volantis) have been randomly assigned using linear or road distance:\n",
    "\n",
    "- Trips whose trip_id starts with digits 0-8 were assigned using road distance.\n",
    "- Trips whose trip_id starts with digits 9-f were assigned using linear distance.\n",
    "\n",
    "Data description\n",
    "The collected data is available in this link. Each object represent a vehicle_interval that contains the following attributes:\n",
    "\n",
    "- duration: how long the interval last, in seconds.\n",
    "- distance: how far the vehicle moved in this interval, in meters.\n",
    "- started_at: when the interval started, UTC Time.\n",
    "- trip_id: uniquely identifies the trip.\n",
    "- vehicle_id: uniquely identifies the vehicle.\n",
    "- rider_id: uniquely identifies the rider. (Not found in the data)\n",
    "- city_id: either bravos, pentos and volantis.\n",
    "- type: can be going_to_pickup, waiting_for_rider or driving_to_destination.\n"
   ]
  },
  {
   "cell_type": "markdown",
   "metadata": {},
   "source": [
    "## Challenge\n",
    "Try to answer the following questions:\n",
    "\n",
    "- Should the company move towards road distance? What's the max price it would make sense to pay per query? (make all the assumptions you need, and make them explicit)\n",
    "- How would you improve the experimental design? Would you collect any additional data?"
   ]
  },
  {
   "cell_type": "code",
   "execution_count": 1,
   "metadata": {},
   "outputs": [],
   "source": [
    "import numpy as np, pandas as pd\n"
   ]
  },
  {
   "cell_type": "code",
   "execution_count": 2,
   "metadata": {},
   "outputs": [
    {
     "data": {
      "text/html": [
       "<div>\n",
       "<style scoped>\n",
       "    .dataframe tbody tr th:only-of-type {\n",
       "        vertical-align: middle;\n",
       "    }\n",
       "\n",
       "    .dataframe tbody tr th {\n",
       "        vertical-align: top;\n",
       "    }\n",
       "\n",
       "    .dataframe thead th {\n",
       "        text-align: right;\n",
       "    }\n",
       "</style>\n",
       "<table border=\"1\" class=\"dataframe\">\n",
       "  <thead>\n",
       "    <tr style=\"text-align: right;\">\n",
       "      <th></th>\n",
       "      <th>duration</th>\n",
       "      <th>distance</th>\n",
       "      <th>started_at</th>\n",
       "      <th>trip_id</th>\n",
       "      <th>vehicle_id</th>\n",
       "      <th>city_id</th>\n",
       "      <th>type</th>\n",
       "    </tr>\n",
       "  </thead>\n",
       "  <tbody>\n",
       "    <tr>\n",
       "      <td>0</td>\n",
       "      <td>857</td>\n",
       "      <td>5384</td>\n",
       "      <td>2016-10-03 13:00:00.286999941</td>\n",
       "      <td>c00cee6963e0dc66e50e271239426914</td>\n",
       "      <td>52d38cf1a3240d5cbdcf730f2d9a47d6</td>\n",
       "      <td>pentos</td>\n",
       "      <td>driving_to_destination</td>\n",
       "    </tr>\n",
       "    <tr>\n",
       "      <td>1</td>\n",
       "      <td>245</td>\n",
       "      <td>1248</td>\n",
       "      <td>2016-10-03 13:00:00.852999926</td>\n",
       "      <td>427425e1f4318ca2461168bdd6e4fcbd</td>\n",
       "      <td>8336b28f24c3e7a1e3d582073b164895</td>\n",
       "      <td>volantis</td>\n",
       "      <td>going_to_pickup</td>\n",
       "    </tr>\n",
       "    <tr>\n",
       "      <td>2</td>\n",
       "      <td>1249</td>\n",
       "      <td>5847</td>\n",
       "      <td>2016-10-03 13:00:01.670000076</td>\n",
       "      <td>757867f6d7c00ef92a65bfaa3895943f</td>\n",
       "      <td>8885c59374cc539163e83f01ed59fd16</td>\n",
       "      <td>pentos</td>\n",
       "      <td>driving_to_destination</td>\n",
       "    </tr>\n",
       "    <tr>\n",
       "      <td>3</td>\n",
       "      <td>471</td>\n",
       "      <td>2585</td>\n",
       "      <td>2016-10-03 13:00:01.841000080</td>\n",
       "      <td>d09d1301d361f7359d0d936557d10f89</td>\n",
       "      <td>81b63920454f70b6755a494e3b28b3a7</td>\n",
       "      <td>bravos</td>\n",
       "      <td>going_to_pickup</td>\n",
       "    </tr>\n",
       "    <tr>\n",
       "      <td>4</td>\n",
       "      <td>182</td>\n",
       "      <td>743</td>\n",
       "      <td>2016-10-03 13:00:01.970000029</td>\n",
       "      <td>00f20a701f0ec2519353ef3ffaf75068</td>\n",
       "      <td>b73030977cbad61c9db55418909864fa</td>\n",
       "      <td>pentos</td>\n",
       "      <td>going_to_pickup</td>\n",
       "    </tr>\n",
       "  </tbody>\n",
       "</table>\n",
       "</div>"
      ],
      "text/plain": [
       "  duration distance                    started_at  \\\n",
       "0      857     5384 2016-10-03 13:00:00.286999941   \n",
       "1      245     1248 2016-10-03 13:00:00.852999926   \n",
       "2     1249     5847 2016-10-03 13:00:01.670000076   \n",
       "3      471     2585 2016-10-03 13:00:01.841000080   \n",
       "4      182      743 2016-10-03 13:00:01.970000029   \n",
       "\n",
       "                            trip_id                        vehicle_id  \\\n",
       "0  c00cee6963e0dc66e50e271239426914  52d38cf1a3240d5cbdcf730f2d9a47d6   \n",
       "1  427425e1f4318ca2461168bdd6e4fcbd  8336b28f24c3e7a1e3d582073b164895   \n",
       "2  757867f6d7c00ef92a65bfaa3895943f  8885c59374cc539163e83f01ed59fd16   \n",
       "3  d09d1301d361f7359d0d936557d10f89  81b63920454f70b6755a494e3b28b3a7   \n",
       "4  00f20a701f0ec2519353ef3ffaf75068  b73030977cbad61c9db55418909864fa   \n",
       "\n",
       "    city_id                    type  \n",
       "0    pentos  driving_to_destination  \n",
       "1  volantis         going_to_pickup  \n",
       "2    pentos  driving_to_destination  \n",
       "3    bravos         going_to_pickup  \n",
       "4    pentos         going_to_pickup  "
      ]
     },
     "execution_count": 2,
     "metadata": {},
     "output_type": "execute_result"
    }
   ],
   "source": [
    "data = pd.read_json('data/intervals_challenge.json', lines=True)\n",
    "original_data = pd.read_json('data/intervals_challenge.json', lines=True)\n",
    "data.head()"
   ]
  },
  {
   "cell_type": "code",
   "execution_count": 3,
   "metadata": {},
   "outputs": [
    {
     "name": "stdout",
     "output_type": "stream",
     "text": [
      "<class 'pandas.core.frame.DataFrame'>\n",
      "RangeIndex: 165170 entries, 0 to 165169\n",
      "Data columns (total 7 columns):\n",
      "duration      165170 non-null object\n",
      "distance      165170 non-null object\n",
      "started_at    165170 non-null datetime64[ns]\n",
      "trip_id       165170 non-null object\n",
      "vehicle_id    165170 non-null object\n",
      "city_id       165170 non-null object\n",
      "type          165170 non-null object\n",
      "dtypes: datetime64[ns](1), object(6)\n",
      "memory usage: 8.8+ MB\n"
     ]
    }
   ],
   "source": [
    "data.info()"
   ]
  },
  {
   "cell_type": "code",
   "execution_count": 4,
   "metadata": {},
   "outputs": [
    {
     "data": {
      "text/plain": [
       "(165170, 7)"
      ]
     },
     "execution_count": 4,
     "metadata": {},
     "output_type": "execute_result"
    }
   ],
   "source": [
    "data.shape"
   ]
  },
  {
   "cell_type": "markdown",
   "metadata": {},
   "source": [
    "#### Because we only need the trips to pickup we can already sort it out:"
   ]
  },
  {
   "cell_type": "code",
   "execution_count": 5,
   "metadata": {
    "scrolled": false
   },
   "outputs": [
    {
     "data": {
      "text/plain": [
       "going_to_pickup           58510\n",
       "waiting_for_rider         53746\n",
       "driving_to_destination    52914\n",
       "Name: type, dtype: int64"
      ]
     },
     "execution_count": 5,
     "metadata": {},
     "output_type": "execute_result"
    }
   ],
   "source": [
    "data.type.value_counts()"
   ]
  },
  {
   "cell_type": "code",
   "execution_count": 6,
   "metadata": {},
   "outputs": [],
   "source": [
    "data_pickup = data[data.type == 'going_to_pickup'].copy()"
   ]
  },
  {
   "cell_type": "code",
   "execution_count": 7,
   "metadata": {},
   "outputs": [
    {
     "data": {
      "text/html": [
       "<div>\n",
       "<style scoped>\n",
       "    .dataframe tbody tr th:only-of-type {\n",
       "        vertical-align: middle;\n",
       "    }\n",
       "\n",
       "    .dataframe tbody tr th {\n",
       "        vertical-align: top;\n",
       "    }\n",
       "\n",
       "    .dataframe thead th {\n",
       "        text-align: right;\n",
       "    }\n",
       "</style>\n",
       "<table border=\"1\" class=\"dataframe\">\n",
       "  <thead>\n",
       "    <tr style=\"text-align: right;\">\n",
       "      <th></th>\n",
       "      <th>duration</th>\n",
       "      <th>distance</th>\n",
       "      <th>started_at</th>\n",
       "      <th>trip_id</th>\n",
       "      <th>vehicle_id</th>\n",
       "      <th>city_id</th>\n",
       "      <th>type</th>\n",
       "    </tr>\n",
       "  </thead>\n",
       "  <tbody>\n",
       "    <tr>\n",
       "      <td>1</td>\n",
       "      <td>245</td>\n",
       "      <td>1248</td>\n",
       "      <td>2016-10-03 13:00:00.852999926</td>\n",
       "      <td>427425e1f4318ca2461168bdd6e4fcbd</td>\n",
       "      <td>8336b28f24c3e7a1e3d582073b164895</td>\n",
       "      <td>volantis</td>\n",
       "      <td>going_to_pickup</td>\n",
       "    </tr>\n",
       "    <tr>\n",
       "      <td>3</td>\n",
       "      <td>471</td>\n",
       "      <td>2585</td>\n",
       "      <td>2016-10-03 13:00:01.841000080</td>\n",
       "      <td>d09d1301d361f7359d0d936557d10f89</td>\n",
       "      <td>81b63920454f70b6755a494e3b28b3a7</td>\n",
       "      <td>bravos</td>\n",
       "      <td>going_to_pickup</td>\n",
       "    </tr>\n",
       "    <tr>\n",
       "      <td>4</td>\n",
       "      <td>182</td>\n",
       "      <td>743</td>\n",
       "      <td>2016-10-03 13:00:01.970000029</td>\n",
       "      <td>00f20a701f0ec2519353ef3ffaf75068</td>\n",
       "      <td>b73030977cbad61c9db55418909864fa</td>\n",
       "      <td>pentos</td>\n",
       "      <td>going_to_pickup</td>\n",
       "    </tr>\n",
       "    <tr>\n",
       "      <td>5</td>\n",
       "      <td>599</td>\n",
       "      <td>1351</td>\n",
       "      <td>2016-10-03 13:00:02.154000044</td>\n",
       "      <td>158e7bc8d42e1d8c94767b00c8f89568</td>\n",
       "      <td>126e868fb282852c2fa95d88878686bf</td>\n",
       "      <td>volantis</td>\n",
       "      <td>going_to_pickup</td>\n",
       "    </tr>\n",
       "    <tr>\n",
       "      <td>9</td>\n",
       "      <td>1525</td>\n",
       "      <td>2674</td>\n",
       "      <td>2016-10-03 13:00:05.637000084</td>\n",
       "      <td>d3e6e8fb50c02d66feca2c60830c4fcc</td>\n",
       "      <td>b0906e917dc5cc0bcba190fd80079a74</td>\n",
       "      <td>bravos</td>\n",
       "      <td>going_to_pickup</td>\n",
       "    </tr>\n",
       "  </tbody>\n",
       "</table>\n",
       "</div>"
      ],
      "text/plain": [
       "  duration distance                    started_at  \\\n",
       "1      245     1248 2016-10-03 13:00:00.852999926   \n",
       "3      471     2585 2016-10-03 13:00:01.841000080   \n",
       "4      182      743 2016-10-03 13:00:01.970000029   \n",
       "5      599     1351 2016-10-03 13:00:02.154000044   \n",
       "9     1525     2674 2016-10-03 13:00:05.637000084   \n",
       "\n",
       "                            trip_id                        vehicle_id  \\\n",
       "1  427425e1f4318ca2461168bdd6e4fcbd  8336b28f24c3e7a1e3d582073b164895   \n",
       "3  d09d1301d361f7359d0d936557d10f89  81b63920454f70b6755a494e3b28b3a7   \n",
       "4  00f20a701f0ec2519353ef3ffaf75068  b73030977cbad61c9db55418909864fa   \n",
       "5  158e7bc8d42e1d8c94767b00c8f89568  126e868fb282852c2fa95d88878686bf   \n",
       "9  d3e6e8fb50c02d66feca2c60830c4fcc  b0906e917dc5cc0bcba190fd80079a74   \n",
       "\n",
       "    city_id             type  \n",
       "1  volantis  going_to_pickup  \n",
       "3    bravos  going_to_pickup  \n",
       "4    pentos  going_to_pickup  \n",
       "5  volantis  going_to_pickup  \n",
       "9    bravos  going_to_pickup  "
      ]
     },
     "execution_count": 7,
     "metadata": {},
     "output_type": "execute_result"
    }
   ],
   "source": [
    "data_pickup.head()"
   ]
  },
  {
   "cell_type": "markdown",
   "metadata": {},
   "source": [
    "#### Define a function to sort linear from road trips"
   ]
  },
  {
   "cell_type": "code",
   "execution_count": 8,
   "metadata": {},
   "outputs": [],
   "source": [
    "def find_type(value):\n",
    "    test = [str(i) for i in range(0,9)]\n",
    "    if value.startswith(tuple(test)):\n",
    "        return \"road\"\n",
    "    else:\n",
    "        return \"linear\"\n",
    "    \n",
    "data_pickup[\"trip_type\"] = data_pickup[\"trip_id\"].apply(find_type)"
   ]
  },
  {
   "cell_type": "code",
   "execution_count": 9,
   "metadata": {
    "scrolled": true
   },
   "outputs": [
    {
     "data": {
      "text/html": [
       "<div>\n",
       "<style scoped>\n",
       "    .dataframe tbody tr th:only-of-type {\n",
       "        vertical-align: middle;\n",
       "    }\n",
       "\n",
       "    .dataframe tbody tr th {\n",
       "        vertical-align: top;\n",
       "    }\n",
       "\n",
       "    .dataframe thead th {\n",
       "        text-align: right;\n",
       "    }\n",
       "</style>\n",
       "<table border=\"1\" class=\"dataframe\">\n",
       "  <thead>\n",
       "    <tr style=\"text-align: right;\">\n",
       "      <th></th>\n",
       "      <th>duration</th>\n",
       "      <th>distance</th>\n",
       "      <th>started_at</th>\n",
       "      <th>trip_id</th>\n",
       "      <th>vehicle_id</th>\n",
       "      <th>city_id</th>\n",
       "      <th>type</th>\n",
       "      <th>trip_type</th>\n",
       "    </tr>\n",
       "  </thead>\n",
       "  <tbody>\n",
       "    <tr>\n",
       "      <td>1</td>\n",
       "      <td>245</td>\n",
       "      <td>1248</td>\n",
       "      <td>2016-10-03 13:00:00.852999926</td>\n",
       "      <td>427425e1f4318ca2461168bdd6e4fcbd</td>\n",
       "      <td>8336b28f24c3e7a1e3d582073b164895</td>\n",
       "      <td>volantis</td>\n",
       "      <td>going_to_pickup</td>\n",
       "      <td>road</td>\n",
       "    </tr>\n",
       "    <tr>\n",
       "      <td>3</td>\n",
       "      <td>471</td>\n",
       "      <td>2585</td>\n",
       "      <td>2016-10-03 13:00:01.841000080</td>\n",
       "      <td>d09d1301d361f7359d0d936557d10f89</td>\n",
       "      <td>81b63920454f70b6755a494e3b28b3a7</td>\n",
       "      <td>bravos</td>\n",
       "      <td>going_to_pickup</td>\n",
       "      <td>linear</td>\n",
       "    </tr>\n",
       "    <tr>\n",
       "      <td>4</td>\n",
       "      <td>182</td>\n",
       "      <td>743</td>\n",
       "      <td>2016-10-03 13:00:01.970000029</td>\n",
       "      <td>00f20a701f0ec2519353ef3ffaf75068</td>\n",
       "      <td>b73030977cbad61c9db55418909864fa</td>\n",
       "      <td>pentos</td>\n",
       "      <td>going_to_pickup</td>\n",
       "      <td>road</td>\n",
       "    </tr>\n",
       "    <tr>\n",
       "      <td>5</td>\n",
       "      <td>599</td>\n",
       "      <td>1351</td>\n",
       "      <td>2016-10-03 13:00:02.154000044</td>\n",
       "      <td>158e7bc8d42e1d8c94767b00c8f89568</td>\n",
       "      <td>126e868fb282852c2fa95d88878686bf</td>\n",
       "      <td>volantis</td>\n",
       "      <td>going_to_pickup</td>\n",
       "      <td>road</td>\n",
       "    </tr>\n",
       "    <tr>\n",
       "      <td>9</td>\n",
       "      <td>1525</td>\n",
       "      <td>2674</td>\n",
       "      <td>2016-10-03 13:00:05.637000084</td>\n",
       "      <td>d3e6e8fb50c02d66feca2c60830c4fcc</td>\n",
       "      <td>b0906e917dc5cc0bcba190fd80079a74</td>\n",
       "      <td>bravos</td>\n",
       "      <td>going_to_pickup</td>\n",
       "      <td>linear</td>\n",
       "    </tr>\n",
       "  </tbody>\n",
       "</table>\n",
       "</div>"
      ],
      "text/plain": [
       "  duration distance                    started_at  \\\n",
       "1      245     1248 2016-10-03 13:00:00.852999926   \n",
       "3      471     2585 2016-10-03 13:00:01.841000080   \n",
       "4      182      743 2016-10-03 13:00:01.970000029   \n",
       "5      599     1351 2016-10-03 13:00:02.154000044   \n",
       "9     1525     2674 2016-10-03 13:00:05.637000084   \n",
       "\n",
       "                            trip_id                        vehicle_id  \\\n",
       "1  427425e1f4318ca2461168bdd6e4fcbd  8336b28f24c3e7a1e3d582073b164895   \n",
       "3  d09d1301d361f7359d0d936557d10f89  81b63920454f70b6755a494e3b28b3a7   \n",
       "4  00f20a701f0ec2519353ef3ffaf75068  b73030977cbad61c9db55418909864fa   \n",
       "5  158e7bc8d42e1d8c94767b00c8f89568  126e868fb282852c2fa95d88878686bf   \n",
       "9  d3e6e8fb50c02d66feca2c60830c4fcc  b0906e917dc5cc0bcba190fd80079a74   \n",
       "\n",
       "    city_id             type trip_type  \n",
       "1  volantis  going_to_pickup      road  \n",
       "3    bravos  going_to_pickup    linear  \n",
       "4    pentos  going_to_pickup      road  \n",
       "5  volantis  going_to_pickup      road  \n",
       "9    bravos  going_to_pickup    linear  "
      ]
     },
     "execution_count": 9,
     "metadata": {},
     "output_type": "execute_result"
    }
   ],
   "source": [
    "data_pickup.head()"
   ]
  },
  {
   "cell_type": "code",
   "execution_count": 10,
   "metadata": {},
   "outputs": [
    {
     "data": {
      "text/plain": [
       "road      33171\n",
       "linear    25339\n",
       "Name: trip_type, dtype: int64"
      ]
     },
     "execution_count": 10,
     "metadata": {},
     "output_type": "execute_result"
    }
   ],
   "source": [
    "data_pickup.trip_type.value_counts()"
   ]
  },
  {
   "cell_type": "markdown",
   "metadata": {},
   "source": [
    "We can observe the road trips are more common than linear trips."
   ]
  },
  {
   "cell_type": "code",
   "execution_count": 11,
   "metadata": {},
   "outputs": [],
   "source": [
    "data_pickup.drop(columns= ['trip_id', 'type'], inplace = True)"
   ]
  },
  {
   "cell_type": "code",
   "execution_count": 12,
   "metadata": {},
   "outputs": [
    {
     "data": {
      "text/html": [
       "<div>\n",
       "<style scoped>\n",
       "    .dataframe tbody tr th:only-of-type {\n",
       "        vertical-align: middle;\n",
       "    }\n",
       "\n",
       "    .dataframe tbody tr th {\n",
       "        vertical-align: top;\n",
       "    }\n",
       "\n",
       "    .dataframe thead th {\n",
       "        text-align: right;\n",
       "    }\n",
       "</style>\n",
       "<table border=\"1\" class=\"dataframe\">\n",
       "  <thead>\n",
       "    <tr style=\"text-align: right;\">\n",
       "      <th></th>\n",
       "      <th>duration</th>\n",
       "      <th>distance</th>\n",
       "      <th>started_at</th>\n",
       "      <th>vehicle_id</th>\n",
       "      <th>city_id</th>\n",
       "      <th>trip_type</th>\n",
       "    </tr>\n",
       "  </thead>\n",
       "  <tbody>\n",
       "    <tr>\n",
       "      <td>1</td>\n",
       "      <td>245</td>\n",
       "      <td>1248</td>\n",
       "      <td>2016-10-03 13:00:00.852999926</td>\n",
       "      <td>8336b28f24c3e7a1e3d582073b164895</td>\n",
       "      <td>volantis</td>\n",
       "      <td>road</td>\n",
       "    </tr>\n",
       "    <tr>\n",
       "      <td>3</td>\n",
       "      <td>471</td>\n",
       "      <td>2585</td>\n",
       "      <td>2016-10-03 13:00:01.841000080</td>\n",
       "      <td>81b63920454f70b6755a494e3b28b3a7</td>\n",
       "      <td>bravos</td>\n",
       "      <td>linear</td>\n",
       "    </tr>\n",
       "    <tr>\n",
       "      <td>4</td>\n",
       "      <td>182</td>\n",
       "      <td>743</td>\n",
       "      <td>2016-10-03 13:00:01.970000029</td>\n",
       "      <td>b73030977cbad61c9db55418909864fa</td>\n",
       "      <td>pentos</td>\n",
       "      <td>road</td>\n",
       "    </tr>\n",
       "    <tr>\n",
       "      <td>5</td>\n",
       "      <td>599</td>\n",
       "      <td>1351</td>\n",
       "      <td>2016-10-03 13:00:02.154000044</td>\n",
       "      <td>126e868fb282852c2fa95d88878686bf</td>\n",
       "      <td>volantis</td>\n",
       "      <td>road</td>\n",
       "    </tr>\n",
       "    <tr>\n",
       "      <td>9</td>\n",
       "      <td>1525</td>\n",
       "      <td>2674</td>\n",
       "      <td>2016-10-03 13:00:05.637000084</td>\n",
       "      <td>b0906e917dc5cc0bcba190fd80079a74</td>\n",
       "      <td>bravos</td>\n",
       "      <td>linear</td>\n",
       "    </tr>\n",
       "  </tbody>\n",
       "</table>\n",
       "</div>"
      ],
      "text/plain": [
       "  duration distance                    started_at  \\\n",
       "1      245     1248 2016-10-03 13:00:00.852999926   \n",
       "3      471     2585 2016-10-03 13:00:01.841000080   \n",
       "4      182      743 2016-10-03 13:00:01.970000029   \n",
       "5      599     1351 2016-10-03 13:00:02.154000044   \n",
       "9     1525     2674 2016-10-03 13:00:05.637000084   \n",
       "\n",
       "                         vehicle_id   city_id trip_type  \n",
       "1  8336b28f24c3e7a1e3d582073b164895  volantis      road  \n",
       "3  81b63920454f70b6755a494e3b28b3a7    bravos    linear  \n",
       "4  b73030977cbad61c9db55418909864fa    pentos      road  \n",
       "5  126e868fb282852c2fa95d88878686bf  volantis      road  \n",
       "9  b0906e917dc5cc0bcba190fd80079a74    bravos    linear  "
      ]
     },
     "execution_count": 12,
     "metadata": {},
     "output_type": "execute_result"
    }
   ],
   "source": [
    "data_pickup.head()"
   ]
  },
  {
   "cell_type": "code",
   "execution_count": 13,
   "metadata": {},
   "outputs": [
    {
     "data": {
      "text/plain": [
       "duration      False\n",
       "distance      False\n",
       "started_at    False\n",
       "vehicle_id    False\n",
       "city_id       False\n",
       "trip_type     False\n",
       "dtype: bool"
      ]
     },
     "execution_count": 13,
     "metadata": {},
     "output_type": "execute_result"
    }
   ],
   "source": [
    "data_pickup.isnull().all()"
   ]
  },
  {
   "cell_type": "code",
   "execution_count": 14,
   "metadata": {},
   "outputs": [
    {
     "name": "stdout",
     "output_type": "stream",
     "text": [
      "<class 'pandas.core.frame.DataFrame'>\n",
      "Int64Index: 58510 entries, 1 to 165169\n",
      "Data columns (total 6 columns):\n",
      "duration      58510 non-null object\n",
      "distance      58510 non-null object\n",
      "started_at    58510 non-null datetime64[ns]\n",
      "vehicle_id    58510 non-null object\n",
      "city_id       58510 non-null object\n",
      "trip_type     58510 non-null object\n",
      "dtypes: datetime64[ns](1), object(5)\n",
      "memory usage: 3.1+ MB\n"
     ]
    }
   ],
   "source": [
    "data_pickup.info()"
   ]
  },
  {
   "cell_type": "code",
   "execution_count": 15,
   "metadata": {
    "scrolled": false
   },
   "outputs": [
    {
     "ename": "TypeError",
     "evalue": "'<' not supported between instances of 'str' and 'int'",
     "output_type": "error",
     "traceback": [
      "\u001b[1;31m---------------------------------------------------------------------------\u001b[0m",
      "\u001b[1;31mTypeError\u001b[0m                                 Traceback (most recent call last)",
      "\u001b[1;32m<ipython-input-15-37c41a3b8c92>\u001b[0m in \u001b[0;36m<module>\u001b[1;34m\u001b[0m\n\u001b[1;32m----> 1\u001b[1;33m \u001b[0mdata_pickup\u001b[0m\u001b[1;33m.\u001b[0m\u001b[0msort_values\u001b[0m\u001b[1;33m(\u001b[0m\u001b[0mby\u001b[0m\u001b[1;33m=\u001b[0m \u001b[1;34m'duration'\u001b[0m\u001b[1;33m)\u001b[0m\u001b[1;33m.\u001b[0m\u001b[0mduration\u001b[0m\u001b[1;33m.\u001b[0m\u001b[0munique\u001b[0m\u001b[1;33m(\u001b[0m\u001b[1;33m)\u001b[0m\u001b[1;33m\u001b[0m\u001b[1;33m\u001b[0m\u001b[0m\n\u001b[0m",
      "\u001b[1;32m~\\Anaconda3\\lib\\site-packages\\pandas\\core\\frame.py\u001b[0m in \u001b[0;36msort_values\u001b[1;34m(self, by, axis, ascending, inplace, kind, na_position)\u001b[0m\n\u001b[0;32m   4997\u001b[0m \u001b[1;33m\u001b[0m\u001b[0m\n\u001b[0;32m   4998\u001b[0m             indexer = nargsort(\n\u001b[1;32m-> 4999\u001b[1;33m                 \u001b[0mk\u001b[0m\u001b[1;33m,\u001b[0m \u001b[0mkind\u001b[0m\u001b[1;33m=\u001b[0m\u001b[0mkind\u001b[0m\u001b[1;33m,\u001b[0m \u001b[0mascending\u001b[0m\u001b[1;33m=\u001b[0m\u001b[0mascending\u001b[0m\u001b[1;33m,\u001b[0m \u001b[0mna_position\u001b[0m\u001b[1;33m=\u001b[0m\u001b[0mna_position\u001b[0m\u001b[1;33m\u001b[0m\u001b[1;33m\u001b[0m\u001b[0m\n\u001b[0m\u001b[0;32m   5000\u001b[0m             )\n\u001b[0;32m   5001\u001b[0m \u001b[1;33m\u001b[0m\u001b[0m\n",
      "\u001b[1;32m~\\Anaconda3\\lib\\site-packages\\pandas\\core\\sorting.py\u001b[0m in \u001b[0;36mnargsort\u001b[1;34m(items, kind, ascending, na_position)\u001b[0m\n\u001b[0;32m    258\u001b[0m         \u001b[0mnon_nans\u001b[0m \u001b[1;33m=\u001b[0m \u001b[0mnon_nans\u001b[0m\u001b[1;33m[\u001b[0m\u001b[1;33m:\u001b[0m\u001b[1;33m:\u001b[0m\u001b[1;33m-\u001b[0m\u001b[1;36m1\u001b[0m\u001b[1;33m]\u001b[0m\u001b[1;33m\u001b[0m\u001b[1;33m\u001b[0m\u001b[0m\n\u001b[0;32m    259\u001b[0m         \u001b[0mnon_nan_idx\u001b[0m \u001b[1;33m=\u001b[0m \u001b[0mnon_nan_idx\u001b[0m\u001b[1;33m[\u001b[0m\u001b[1;33m:\u001b[0m\u001b[1;33m:\u001b[0m\u001b[1;33m-\u001b[0m\u001b[1;36m1\u001b[0m\u001b[1;33m]\u001b[0m\u001b[1;33m\u001b[0m\u001b[1;33m\u001b[0m\u001b[0m\n\u001b[1;32m--> 260\u001b[1;33m     \u001b[0mindexer\u001b[0m \u001b[1;33m=\u001b[0m \u001b[0mnon_nan_idx\u001b[0m\u001b[1;33m[\u001b[0m\u001b[0mnon_nans\u001b[0m\u001b[1;33m.\u001b[0m\u001b[0margsort\u001b[0m\u001b[1;33m(\u001b[0m\u001b[0mkind\u001b[0m\u001b[1;33m=\u001b[0m\u001b[0mkind\u001b[0m\u001b[1;33m)\u001b[0m\u001b[1;33m]\u001b[0m\u001b[1;33m\u001b[0m\u001b[1;33m\u001b[0m\u001b[0m\n\u001b[0m\u001b[0;32m    261\u001b[0m     \u001b[1;32mif\u001b[0m \u001b[1;32mnot\u001b[0m \u001b[0mascending\u001b[0m\u001b[1;33m:\u001b[0m\u001b[1;33m\u001b[0m\u001b[1;33m\u001b[0m\u001b[0m\n\u001b[0;32m    262\u001b[0m         \u001b[0mindexer\u001b[0m \u001b[1;33m=\u001b[0m \u001b[0mindexer\u001b[0m\u001b[1;33m[\u001b[0m\u001b[1;33m:\u001b[0m\u001b[1;33m:\u001b[0m\u001b[1;33m-\u001b[0m\u001b[1;36m1\u001b[0m\u001b[1;33m]\u001b[0m\u001b[1;33m\u001b[0m\u001b[1;33m\u001b[0m\u001b[0m\n",
      "\u001b[1;31mTypeError\u001b[0m: '<' not supported between instances of 'str' and 'int'"
     ]
    }
   ],
   "source": [
    "data_pickup.sort_values(by= 'duration').duration.unique()"
   ]
  },
  {
   "cell_type": "code",
   "execution_count": 17,
   "metadata": {},
   "outputs": [
    {
     "name": "stdout",
     "output_type": "stream",
     "text": [
      "duration NA:  299\n",
      "duration 0:  22\n",
      "distance NA:  299\n",
      "distance 0:  1421\n"
     ]
    }
   ],
   "source": [
    "print('duration NA: ', data_pickup[data_pickup.duration == 'NA'].duration.count())\n",
    "print('duration 0: ', data_pickup[data_pickup.duration == 0].duration.count())\n",
    "print('distance NA: ', data_pickup[data_pickup.distance == 'NA'].distance.count())\n",
    "print('distance 0: ', data_pickup[data_pickup.distance == 0].distance.count())\n"
   ]
  },
  {
   "cell_type": "code",
   "execution_count": 18,
   "metadata": {},
   "outputs": [],
   "source": [
    "data_pickup.drop(data_pickup[(data_pickup.duration == 'NA') |\n",
    "                             (data_pickup.duration == 0) |\n",
    "                             (data_pickup.distance == 'NA') |\n",
    "                             (data_pickup.distance == 0)].index,\n",
    "                 axis=0, inplace=True)"
   ]
  },
  {
   "cell_type": "code",
   "execution_count": 19,
   "metadata": {},
   "outputs": [
    {
     "data": {
      "text/html": [
       "<div>\n",
       "<style scoped>\n",
       "    .dataframe tbody tr th:only-of-type {\n",
       "        vertical-align: middle;\n",
       "    }\n",
       "\n",
       "    .dataframe tbody tr th {\n",
       "        vertical-align: top;\n",
       "    }\n",
       "\n",
       "    .dataframe thead th {\n",
       "        text-align: right;\n",
       "    }\n",
       "</style>\n",
       "<table border=\"1\" class=\"dataframe\">\n",
       "  <thead>\n",
       "    <tr style=\"text-align: right;\">\n",
       "      <th></th>\n",
       "      <th>duration</th>\n",
       "      <th>distance</th>\n",
       "      <th>started_at</th>\n",
       "      <th>vehicle_id</th>\n",
       "      <th>city_id</th>\n",
       "      <th>trip_type</th>\n",
       "    </tr>\n",
       "  </thead>\n",
       "  <tbody>\n",
       "    <tr>\n",
       "      <td>0</td>\n",
       "      <td>245</td>\n",
       "      <td>1248</td>\n",
       "      <td>2016-10-03 13:00:00.852999926</td>\n",
       "      <td>8336b28f24c3e7a1e3d582073b164895</td>\n",
       "      <td>volantis</td>\n",
       "      <td>road</td>\n",
       "    </tr>\n",
       "    <tr>\n",
       "      <td>1</td>\n",
       "      <td>471</td>\n",
       "      <td>2585</td>\n",
       "      <td>2016-10-03 13:00:01.841000080</td>\n",
       "      <td>81b63920454f70b6755a494e3b28b3a7</td>\n",
       "      <td>bravos</td>\n",
       "      <td>linear</td>\n",
       "    </tr>\n",
       "    <tr>\n",
       "      <td>2</td>\n",
       "      <td>182</td>\n",
       "      <td>743</td>\n",
       "      <td>2016-10-03 13:00:01.970000029</td>\n",
       "      <td>b73030977cbad61c9db55418909864fa</td>\n",
       "      <td>pentos</td>\n",
       "      <td>road</td>\n",
       "    </tr>\n",
       "    <tr>\n",
       "      <td>3</td>\n",
       "      <td>599</td>\n",
       "      <td>1351</td>\n",
       "      <td>2016-10-03 13:00:02.154000044</td>\n",
       "      <td>126e868fb282852c2fa95d88878686bf</td>\n",
       "      <td>volantis</td>\n",
       "      <td>road</td>\n",
       "    </tr>\n",
       "    <tr>\n",
       "      <td>4</td>\n",
       "      <td>1525</td>\n",
       "      <td>2674</td>\n",
       "      <td>2016-10-03 13:00:05.637000084</td>\n",
       "      <td>b0906e917dc5cc0bcba190fd80079a74</td>\n",
       "      <td>bravos</td>\n",
       "      <td>linear</td>\n",
       "    </tr>\n",
       "    <tr>\n",
       "      <td>...</td>\n",
       "      <td>...</td>\n",
       "      <td>...</td>\n",
       "      <td>...</td>\n",
       "      <td>...</td>\n",
       "      <td>...</td>\n",
       "      <td>...</td>\n",
       "    </tr>\n",
       "    <tr>\n",
       "      <td>56773</td>\n",
       "      <td>135</td>\n",
       "      <td>263</td>\n",
       "      <td>2016-10-04 20:33:03.627000093</td>\n",
       "      <td>2c8fd89e1efbb6f207855c453760a4a1</td>\n",
       "      <td>pentos</td>\n",
       "      <td>linear</td>\n",
       "    </tr>\n",
       "    <tr>\n",
       "      <td>56774</td>\n",
       "      <td>182</td>\n",
       "      <td>222</td>\n",
       "      <td>2016-10-04 20:33:03.806999922</td>\n",
       "      <td>7a7b7c6ae0671ea05ac039fe4d36874a</td>\n",
       "      <td>volantis</td>\n",
       "      <td>road</td>\n",
       "    </tr>\n",
       "    <tr>\n",
       "      <td>56775</td>\n",
       "      <td>77</td>\n",
       "      <td>285</td>\n",
       "      <td>2016-10-04 20:33:28.573999882</td>\n",
       "      <td>57aa029c4c246d713ed03a75cc72700a</td>\n",
       "      <td>volantis</td>\n",
       "      <td>road</td>\n",
       "    </tr>\n",
       "    <tr>\n",
       "      <td>56776</td>\n",
       "      <td>17</td>\n",
       "      <td>88</td>\n",
       "      <td>2016-10-04 20:33:49.171999931</td>\n",
       "      <td>05f5cb64e8bfc417e56437e6324d367a</td>\n",
       "      <td>bravos</td>\n",
       "      <td>road</td>\n",
       "    </tr>\n",
       "    <tr>\n",
       "      <td>56777</td>\n",
       "      <td>91</td>\n",
       "      <td>309</td>\n",
       "      <td>2016-10-04 20:34:39.753000021</td>\n",
       "      <td>3e7b615fe0dfdb3b081ee0c9a2d838a8</td>\n",
       "      <td>volantis</td>\n",
       "      <td>linear</td>\n",
       "    </tr>\n",
       "  </tbody>\n",
       "</table>\n",
       "<p>56778 rows × 6 columns</p>\n",
       "</div>"
      ],
      "text/plain": [
       "      duration distance                    started_at  \\\n",
       "0          245     1248 2016-10-03 13:00:00.852999926   \n",
       "1          471     2585 2016-10-03 13:00:01.841000080   \n",
       "2          182      743 2016-10-03 13:00:01.970000029   \n",
       "3          599     1351 2016-10-03 13:00:02.154000044   \n",
       "4         1525     2674 2016-10-03 13:00:05.637000084   \n",
       "...        ...      ...                           ...   \n",
       "56773      135      263 2016-10-04 20:33:03.627000093   \n",
       "56774      182      222 2016-10-04 20:33:03.806999922   \n",
       "56775       77      285 2016-10-04 20:33:28.573999882   \n",
       "56776       17       88 2016-10-04 20:33:49.171999931   \n",
       "56777       91      309 2016-10-04 20:34:39.753000021   \n",
       "\n",
       "                             vehicle_id   city_id trip_type  \n",
       "0      8336b28f24c3e7a1e3d582073b164895  volantis      road  \n",
       "1      81b63920454f70b6755a494e3b28b3a7    bravos    linear  \n",
       "2      b73030977cbad61c9db55418909864fa    pentos      road  \n",
       "3      126e868fb282852c2fa95d88878686bf  volantis      road  \n",
       "4      b0906e917dc5cc0bcba190fd80079a74    bravos    linear  \n",
       "...                                 ...       ...       ...  \n",
       "56773  2c8fd89e1efbb6f207855c453760a4a1    pentos    linear  \n",
       "56774  7a7b7c6ae0671ea05ac039fe4d36874a  volantis      road  \n",
       "56775  57aa029c4c246d713ed03a75cc72700a  volantis      road  \n",
       "56776  05f5cb64e8bfc417e56437e6324d367a    bravos      road  \n",
       "56777  3e7b615fe0dfdb3b081ee0c9a2d838a8  volantis    linear  \n",
       "\n",
       "[56778 rows x 6 columns]"
      ]
     },
     "execution_count": 19,
     "metadata": {},
     "output_type": "execute_result"
    }
   ],
   "source": [
    "data_pickup.reset_index(drop = True)"
   ]
  },
  {
   "cell_type": "code",
   "execution_count": 20,
   "metadata": {},
   "outputs": [
    {
     "data": {
      "text/html": [
       "<div>\n",
       "<style scoped>\n",
       "    .dataframe tbody tr th:only-of-type {\n",
       "        vertical-align: middle;\n",
       "    }\n",
       "\n",
       "    .dataframe tbody tr th {\n",
       "        vertical-align: top;\n",
       "    }\n",
       "\n",
       "    .dataframe thead th {\n",
       "        text-align: right;\n",
       "    }\n",
       "</style>\n",
       "<table border=\"1\" class=\"dataframe\">\n",
       "  <thead>\n",
       "    <tr style=\"text-align: right;\">\n",
       "      <th></th>\n",
       "      <th>duration</th>\n",
       "      <th>distance</th>\n",
       "      <th>started_at</th>\n",
       "      <th>vehicle_id</th>\n",
       "      <th>city_id</th>\n",
       "      <th>trip_type</th>\n",
       "      <th>dist_dur</th>\n",
       "    </tr>\n",
       "  </thead>\n",
       "  <tbody>\n",
       "    <tr>\n",
       "      <td>1</td>\n",
       "      <td>245</td>\n",
       "      <td>1248</td>\n",
       "      <td>2016-10-03 13:00:00.852999926</td>\n",
       "      <td>8336b28f24c3e7a1e3d582073b164895</td>\n",
       "      <td>volantis</td>\n",
       "      <td>road</td>\n",
       "      <td>5.09388</td>\n",
       "    </tr>\n",
       "    <tr>\n",
       "      <td>3</td>\n",
       "      <td>471</td>\n",
       "      <td>2585</td>\n",
       "      <td>2016-10-03 13:00:01.841000080</td>\n",
       "      <td>81b63920454f70b6755a494e3b28b3a7</td>\n",
       "      <td>bravos</td>\n",
       "      <td>linear</td>\n",
       "      <td>5.48832</td>\n",
       "    </tr>\n",
       "    <tr>\n",
       "      <td>4</td>\n",
       "      <td>182</td>\n",
       "      <td>743</td>\n",
       "      <td>2016-10-03 13:00:01.970000029</td>\n",
       "      <td>b73030977cbad61c9db55418909864fa</td>\n",
       "      <td>pentos</td>\n",
       "      <td>road</td>\n",
       "      <td>4.08242</td>\n",
       "    </tr>\n",
       "    <tr>\n",
       "      <td>5</td>\n",
       "      <td>599</td>\n",
       "      <td>1351</td>\n",
       "      <td>2016-10-03 13:00:02.154000044</td>\n",
       "      <td>126e868fb282852c2fa95d88878686bf</td>\n",
       "      <td>volantis</td>\n",
       "      <td>road</td>\n",
       "      <td>2.25543</td>\n",
       "    </tr>\n",
       "    <tr>\n",
       "      <td>9</td>\n",
       "      <td>1525</td>\n",
       "      <td>2674</td>\n",
       "      <td>2016-10-03 13:00:05.637000084</td>\n",
       "      <td>b0906e917dc5cc0bcba190fd80079a74</td>\n",
       "      <td>bravos</td>\n",
       "      <td>linear</td>\n",
       "      <td>1.75344</td>\n",
       "    </tr>\n",
       "  </tbody>\n",
       "</table>\n",
       "</div>"
      ],
      "text/plain": [
       "  duration distance                    started_at  \\\n",
       "1      245     1248 2016-10-03 13:00:00.852999926   \n",
       "3      471     2585 2016-10-03 13:00:01.841000080   \n",
       "4      182      743 2016-10-03 13:00:01.970000029   \n",
       "5      599     1351 2016-10-03 13:00:02.154000044   \n",
       "9     1525     2674 2016-10-03 13:00:05.637000084   \n",
       "\n",
       "                         vehicle_id   city_id trip_type dist_dur  \n",
       "1  8336b28f24c3e7a1e3d582073b164895  volantis      road  5.09388  \n",
       "3  81b63920454f70b6755a494e3b28b3a7    bravos    linear  5.48832  \n",
       "4  b73030977cbad61c9db55418909864fa    pentos      road  4.08242  \n",
       "5  126e868fb282852c2fa95d88878686bf  volantis      road  2.25543  \n",
       "9  b0906e917dc5cc0bcba190fd80079a74    bravos    linear  1.75344  "
      ]
     },
     "execution_count": 20,
     "metadata": {},
     "output_type": "execute_result"
    }
   ],
   "source": [
    "data_pickup['dist_dur'] = data_pickup.distance / data_pickup.duration\n",
    "data_pickup.head()"
   ]
  }
 ],
 "metadata": {
  "kernelspec": {
   "display_name": "Python 3",
   "language": "python",
   "name": "python3"
  },
  "language_info": {
   "codemirror_mode": {
    "name": "ipython",
    "version": 3
   },
   "file_extension": ".py",
   "mimetype": "text/x-python",
   "name": "python",
   "nbconvert_exporter": "python",
   "pygments_lexer": "ipython3",
   "version": "3.7.4"
  }
 },
 "nbformat": 4,
 "nbformat_minor": 2
}
